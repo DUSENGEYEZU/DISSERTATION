{
 "cells": [
  {
   "cell_type": "code",
   "execution_count": 1,
   "metadata": {},
   "outputs": [
    {
     "name": "stdout",
     "output_type": "stream",
     "text": [
      "nyuma ya saa sita, igihe kinini ntabona\n"
     ]
    }
   ],
   "source": [
    "import requests\n",
    "import json\n",
    "text = 'good afternoon, long time no see'\n",
    "api_url = \"https://translate.googleapis.com/translate_a/single\"\n",
    "client = \"?client=gtx&dt=t\"\n",
    "dt = \"&dt=t\"\n",
    "sl = \"&sl=en\"\n",
    "tl = f\"&tl=rw\"\n",
    "r = requests.get(api_url+ client + dt + sl + tl + \"&q=\" + text)\n",
    "print(json.loads(r.text)[0][0][0])"
   ]
  },
  {
   "cell_type": "code",
   "execution_count": null,
   "metadata": {},
   "outputs": [],
   "source": []
  }
 ],
 "metadata": {
  "kernelspec": {
   "display_name": "Python 3",
   "language": "python",
   "name": "python3"
  },
  "language_info": {
   "codemirror_mode": {
    "name": "ipython",
    "version": 3
   },
   "file_extension": ".py",
   "mimetype": "text/x-python",
   "name": "python",
   "nbconvert_exporter": "python",
   "pygments_lexer": "ipython3",
   "version": "3.10.6"
  },
  "orig_nbformat": 4,
  "vscode": {
   "interpreter": {
    "hash": "916dbcbb3f70747c44a77c7bcd40155683ae19c65e1c03b4aa3499c5328201f1"
   }
  }
 },
 "nbformat": 4,
 "nbformat_minor": 2
}
