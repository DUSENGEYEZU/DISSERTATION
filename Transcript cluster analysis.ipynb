{
 "cells": [
  {
   "cell_type": "markdown",
   "metadata": {},
   "source": [
    "# Pharase minging\n",
    "https://www.youtube.com/watch?v=oG297Pvr5RA"
   ]
  },
  {
   "cell_type": "code",
   "execution_count": 1,
   "metadata": {},
   "outputs": [],
   "source": [
    "import pandas as pd\n",
    "dataset=pd.read_csv('dataset/Data/response_and_answer.csv')\n"
   ]
  },
  {
   "cell_type": "code",
   "execution_count": 2,
   "metadata": {},
   "outputs": [
    {
     "name": "stdout",
     "output_type": "stream",
     "text": [
      "<class 'list'>\n"
     ]
    }
   ],
   "source": [
    "# response on sipecific question \n",
    "dfspesresponse=dataset[dataset['Question number']==1]\n",
    "listspecresp=list(dfspesresponse['Responses'])\n",
    "print(type(listspecresp))\n"
   ]
  },
  {
   "cell_type": "code",
   "execution_count": 3,
   "metadata": {},
   "outputs": [
    {
     "name": "stderr",
     "output_type": "stream",
     "text": [
      "/home/longin/.local/lib/python3.10/site-packages/tqdm/auto.py:22: TqdmWarning: IProgress not found. Please update jupyter and ipywidgets. See https://ipywidgets.readthedocs.io/en/stable/user_install.html\n",
      "  from .autonotebook import tqdm as notebook_tqdm\n"
     ]
    }
   ],
   "source": [
    "from sentence_transformers import SentenceTransformer\n"
   ]
  },
  {
   "cell_type": "code",
   "execution_count": 4,
   "metadata": {},
   "outputs": [
    {
     "data": {
      "text/plain": [
       "[[0.707676887512207, 2, 6],\n",
       " [0.6418638229370117, 6, 10],\n",
       " [0.6357030272483826, 2, 10]]"
      ]
     },
     "execution_count": 4,
     "metadata": {},
     "output_type": "execute_result"
    }
   ],
   "source": [
    "from sentence_transformers import SentenceTransformer, util\n",
    "model = SentenceTransformer('all-MiniLM-L6-v2')\n",
    "\n",
    "# Single list of sentences - Possible tens of thousands of sentences\n",
    "sentences = listspecresp\n",
    "\n",
    "paraphrases = util.paraphrase_mining(model, sentences)\n",
    "responsecomp1=[]\n",
    "responsecomp2=[]\n",
    "scoreresp=[]\n",
    "\n",
    "\n",
    "for paraphrase in paraphrases:\n",
    "    score, i, j = paraphrase\n",
    "    #print(\"{} \\t\\t {} \\t\\t Score: {:.4f}\".format(sentences[i], sentences[j], score))\n",
    "    responsecomp1.append(sentences[i])\n",
    "    responsecomp2.append(sentences[j])\n",
    "    scoreresp.append(score)\n",
    "df = pd.DataFrame(list(zip(responsecomp1, responsecomp2,scoreresp)),columns =['responsecomp1', 'responsecomp2','score'])\n",
    "\n",
    "paraphrases[0:3]\n"
   ]
  },
  {
   "cell_type": "code",
   "execution_count": 5,
   "metadata": {},
   "outputs": [
    {
     "data": {
      "text/html": [
       "<div>\n",
       "<style scoped>\n",
       "    .dataframe tbody tr th:only-of-type {\n",
       "        vertical-align: middle;\n",
       "    }\n",
       "\n",
       "    .dataframe tbody tr th {\n",
       "        vertical-align: top;\n",
       "    }\n",
       "\n",
       "    .dataframe thead th {\n",
       "        text-align: right;\n",
       "    }\n",
       "</style>\n",
       "<table border=\"1\" class=\"dataframe\">\n",
       "  <thead>\n",
       "    <tr style=\"text-align: right;\">\n",
       "      <th></th>\n",
       "      <th>responsecomp1</th>\n",
       "      <th>responsecomp2</th>\n",
       "      <th>score</th>\n",
       "    </tr>\n",
       "  </thead>\n",
       "  <tbody>\n",
       "    <tr>\n",
       "      <th>0</th>\n",
       "      <td>that's basically the technical question for mi...</td>\n",
       "      <td>in rwanda every tender-ship or tendering proce...</td>\n",
       "      <td>0.707677</td>\n",
       "    </tr>\n",
       "    <tr>\n",
       "      <th>1</th>\n",
       "      <td>in rwanda every tender-ship or tendering proce...</td>\n",
       "      <td>yeah, thank you very much abbott has had an id...</td>\n",
       "      <td>0.641864</td>\n",
       "    </tr>\n",
       "    <tr>\n",
       "      <th>2</th>\n",
       "      <td>that's basically the technical question for mi...</td>\n",
       "      <td>yeah, thank you very much abbott has had an id...</td>\n",
       "      <td>0.635703</td>\n",
       "    </tr>\n",
       "    <tr>\n",
       "      <th>3</th>\n",
       "      <td>that's basically the technical question for mi...</td>\n",
       "      <td>what i can say do we have a policy for ppp. iâ...</td>\n",
       "      <td>0.627821</td>\n",
       "    </tr>\n",
       "    <tr>\n",
       "      <th>4</th>\n",
       "      <td>what i can say do we have a policy for ppp. iâ...</td>\n",
       "      <td>yeah, thank you very much abbott has had an id...</td>\n",
       "      <td>0.577096</td>\n",
       "    </tr>\n",
       "    <tr>\n",
       "      <th>...</th>\n",
       "      <td>...</td>\n",
       "      <td>...</td>\n",
       "      <td>...</td>\n",
       "    </tr>\n",
       "    <tr>\n",
       "      <th>131</th>\n",
       "      <td>i was not involved at all. okay.</td>\n",
       "      <td>they will not. sometimes they will still negot...</td>\n",
       "      <td>-0.015363</td>\n",
       "    </tr>\n",
       "    <tr>\n",
       "      <th>132</th>\n",
       "      <td>right. chai was the one bill and melinda gates...</td>\n",
       "      <td>it is going to be hard to tell cause i was not...</td>\n",
       "      <td>-0.023971</td>\n",
       "    </tr>\n",
       "    <tr>\n",
       "      <th>133</th>\n",
       "      <td>i was not involved at all. okay.</td>\n",
       "      <td>thank you very much, if i may explain the way ...</td>\n",
       "      <td>-0.024984</td>\n",
       "    </tr>\n",
       "    <tr>\n",
       "      <th>134</th>\n",
       "      <td>i was not involved at all. okay.</td>\n",
       "      <td>okay, so one of the things that we set out to ...</td>\n",
       "      <td>-0.036836</td>\n",
       "    </tr>\n",
       "    <tr>\n",
       "      <th>135</th>\n",
       "      <td>i was not involved at all. okay.</td>\n",
       "      <td>as i said previously, we have different level ...</td>\n",
       "      <td>-0.044020</td>\n",
       "    </tr>\n",
       "  </tbody>\n",
       "</table>\n",
       "<p>136 rows × 3 columns</p>\n",
       "</div>"
      ],
      "text/plain": [
       "                                         responsecomp1  \\\n",
       "0    that's basically the technical question for mi...   \n",
       "1    in rwanda every tender-ship or tendering proce...   \n",
       "2    that's basically the technical question for mi...   \n",
       "3    that's basically the technical question for mi...   \n",
       "4    what i can say do we have a policy for ppp. iâ...   \n",
       "..                                                 ...   \n",
       "131                  i was not involved at all. okay.    \n",
       "132  right. chai was the one bill and melinda gates...   \n",
       "133                  i was not involved at all. okay.    \n",
       "134                  i was not involved at all. okay.    \n",
       "135                  i was not involved at all. okay.    \n",
       "\n",
       "                                         responsecomp2     score  \n",
       "0    in rwanda every tender-ship or tendering proce...  0.707677  \n",
       "1    yeah, thank you very much abbott has had an id...  0.641864  \n",
       "2    yeah, thank you very much abbott has had an id...  0.635703  \n",
       "3    what i can say do we have a policy for ppp. iâ...  0.627821  \n",
       "4    yeah, thank you very much abbott has had an id...  0.577096  \n",
       "..                                                 ...       ...  \n",
       "131  they will not. sometimes they will still negot... -0.015363  \n",
       "132  it is going to be hard to tell cause i was not... -0.023971  \n",
       "133  thank you very much, if i may explain the way ... -0.024984  \n",
       "134  okay, so one of the things that we set out to ... -0.036836  \n",
       "135  as i said previously, we have different level ... -0.044020  \n",
       "\n",
       "[136 rows x 3 columns]"
      ]
     },
     "execution_count": 5,
     "metadata": {},
     "output_type": "execute_result"
    }
   ],
   "source": [
    "df"
   ]
  },
  {
   "cell_type": "code",
   "execution_count": 6,
   "metadata": {},
   "outputs": [
    {
     "data": {
      "text/html": [
       "<div>\n",
       "<style scoped>\n",
       "    .dataframe tbody tr th:only-of-type {\n",
       "        vertical-align: middle;\n",
       "    }\n",
       "\n",
       "    .dataframe tbody tr th {\n",
       "        vertical-align: top;\n",
       "    }\n",
       "\n",
       "    .dataframe thead th {\n",
       "        text-align: right;\n",
       "    }\n",
       "</style>\n",
       "<table border=\"1\" class=\"dataframe\">\n",
       "  <thead>\n",
       "    <tr style=\"text-align: right;\">\n",
       "      <th></th>\n",
       "      <th>responsecomp1</th>\n",
       "      <th>responsecomp2</th>\n",
       "      <th>score</th>\n",
       "    </tr>\n",
       "  </thead>\n",
       "  <tbody>\n",
       "    <tr>\n",
       "      <th>133</th>\n",
       "      <td>i was not involved at all. okay.</td>\n",
       "      <td>thank you very much, if i may explain the way ...</td>\n",
       "      <td>-0.024984</td>\n",
       "    </tr>\n",
       "    <tr>\n",
       "      <th>134</th>\n",
       "      <td>i was not involved at all. okay.</td>\n",
       "      <td>okay, so one of the things that we set out to ...</td>\n",
       "      <td>-0.036836</td>\n",
       "    </tr>\n",
       "    <tr>\n",
       "      <th>135</th>\n",
       "      <td>i was not involved at all. okay.</td>\n",
       "      <td>as i said previously, we have different level ...</td>\n",
       "      <td>-0.044020</td>\n",
       "    </tr>\n",
       "  </tbody>\n",
       "</table>\n",
       "</div>"
      ],
      "text/plain": [
       "                         responsecomp1  \\\n",
       "133  i was not involved at all. okay.    \n",
       "134  i was not involved at all. okay.    \n",
       "135  i was not involved at all. okay.    \n",
       "\n",
       "                                         responsecomp2     score  \n",
       "133  thank you very much, if i may explain the way ... -0.024984  \n",
       "134  okay, so one of the things that we set out to ... -0.036836  \n",
       "135  as i said previously, we have different level ... -0.044020  "
      ]
     },
     "execution_count": 6,
     "metadata": {},
     "output_type": "execute_result"
    }
   ],
   "source": [
    "df.tail(3)"
   ]
  },
  {
   "cell_type": "markdown",
   "metadata": {},
   "source": [
    "# clustering"
   ]
  },
  {
   "cell_type": "code",
   "execution_count": 9,
   "metadata": {},
   "outputs": [
    {
     "name": "stdout",
     "output_type": "stream",
     "text": [
      "Cluster  1\n",
      "['i was not involved at all. okay. ', 'then i understand.', 'right. chai was the one bill and melinda gates used to pass the money through from the aspect of finance. but they were also giving the technical support. this is a dual role of chai. they were like really supportive and like they were giving guidance during the technical discussions and was supportive. so, they facilitated, i looked at them now and, actually, they were facilitator, irrespective that they had that financial aspect.', \"i think the initial vision was good i think it was. you know, i think the overall vision and the kind of the strategic direction was good. it's just that when it comes to implementation and getting organized i think the work plan and accountabilities thatâ€™s where things got confused.\"] and lenght of cluster is 4\n",
      "======================\n",
      "Cluster  3\n",
      "[\"i think the one part of sustainability is that financing since this government budget, i don't think that what goes through the government budget. i don't think that we stop tomorrow and members will not stop paying their contributions. so insurance is a sustainable way of having these services run. so now what can threaten the sustainability is the cost of running the lab. since i have not looked at the model, if it is reasonable enough for the public and private operators, not to lose through providing this service, just because insurance didn't pay didn't reimburse enough. so if that is guaranteed, then there is no other threat to sustainability. so we have to the costing model if it respected the affordability part of it sustainability would be guaranteed. \", 'i know some issues. yes. i know.i am the business person for many years, and i know somehow issues especially that we are facing in the lab sector.', 'okay, so one of the things that we set out to address. they were four things. access, improve access, improving timeliness, improving the quality and the cost, reducing the cost of diagnostic network. so those are the things that we wanted to set out to transform. okay, some a lot of coverage, good results, good quality, and at less cost. then we did the prefeasibility assessment showed us clearly that, for example, the turnaround time was more than two months from sample collection to results delivery, the national policy, the service offering. i think they were around 100 plus tests but for 27 were being offered by the public labs. imagine having 100 plus test but you can only offer of 20 something or thirty and health centers had 50% less than the test that were kind of made service package.', \"thank you very much, if i may explain the way i understand it first of all abbott proposed the placement of instruments in different hospitals. so, placement in what we call reagent agreement plan whereby the machine is not purchased by the customer but placed by the manufacturer or the supplier and the business will turn around the purchase of reagents. and actually, the maintenance is guaranteed by the supplier. so that's what is still going on abbott placed instruments and for those instruments whereby the tests done those point of care, if i may say so, like chemistry, hematology, there is no referral. the machine does perform the test for that facility where it is installed, because those are tests that are required in emergency or immediately the decision needs to be made for the patient.\", \"it is going to be hard to tell cause i was not in there at that time but when we were discussing in a way this can happen we were seeing, do let start stepwise starting with let's say, different levels of health system starting from let's say a referral level district level health center level, even post health, post level and select in each and every province, a sample that will be representative of the whole country. \", 'as i said previously, we have different level of hospitals, their needs also are different and their capability to treat are different. they can expand services also going up if they are able to do that. why not expand to a level of pathology, examinations of the lab. this kind of also partnership can also involve the imaging service, why not? because we know that sometimes hospitals cannot afford like big machines like ct scan or mri and so on. so we can scale up with not only the lab but also with other kind of partnerships that hospitals can benefit from. '] and lenght of cluster is 6\n",
      "======================\n",
      "Cluster  2\n",
      "[\"that's basically the technical question for ministry of health. and when we do ppp as a country this is just for us to transfer risks to private partner or attracting financing for a given project. so for this particular labs management in rwanda for technical aspects, the ministry of health is in the position to elaborate more. \", 'what i can say do we have a policy for ppp. iâ€™m not aware of that. but maybe because we are doing ppp, we have a policy of legal framework. but one of the challenges we have noticed when this ppp with abbott initiated, during negotiations they did not consider the technical aspect of the laboratory to discuss about what will be done, for our experience with this abbott even we look on the price they were proposing, which were already approved at that time we realized that the hospital will lose, they should have focused in all aspects, technical and clinical aspects, that is how it should normally be when conducting the ppp.', 'in rwanda every tender-ship or tendering process is provided by the law, if you have a proposal and you are proposing it to the government of rwanda, that proposal is accepted on one condition, that you make a feasibility study, which proves the project to be viable both financially and viable in terms of diagnostics, if you are considering diagnostics.secondly, if the government was to bring forth a project, then it will just put together project, do the feasibility study and tender it to any partner who is willing to partner with the government to bring it to flourish. it is in that direction things related to ppp work here in rwanda.', \"yeah, thank you very much abbott has had an idea of partnering with the government of rwanda to improve, laboratory services and came up with a proposal of better services and a state of the arts instruments to improve diagnostic services in rwandan public laboratories. then, once the proposal was received by the government of rwanda, the cabinet indorsed that idea and the sector ministry, which is ministry of health, go into an engagement with abbott to initiate that partnership with the earlier stage doing the feasibility study as per the ppp law. so, that's how the negotiation initiated actually departed from the proposal abbott did to the government and then they sat together design the implementation process, which had to initiate with the feasibility study. and during that discussion they outlined, every partyâ€™s responsibility in order to implement that feasibility study.\", \"yes okay. so that's why i said maybe we will need to rework on the proposal and the combination of the ppp to make sure that it's actually, they are updated to the actual gaps now that are existing. okay. not repeating or duplicating what is being done but also to see what is done, what is not, covered yeah. with the efforts, put into place and start filling the gaps with the ppp.\", \"so again, i don't know all the private entities. but the bottom line for private sector is, you know, what do i gain? what's my ultimately, they're not public sector that we know. so, in terms of their bank balance what will it look like at the end of this so, i think one thing that i was, you know, nervous about, and i mentioned briefly is what it depends on how much money private sector is going to make over what period of time compared to what they're what they're benefiting now. so, for example if it's just transportation and, you know, improving the transportation, a private player who's already doing logistics in rwanda, taking on a contract like that it's really big win for them and being able to compete for it, and all logistic companies being able to compete for that is a big win. rwanda may not attract a huge, you know, private logistics player. you know, that's not in country already for something like that because the profit margin may not be may not may not make sense for them to invest in at that point. so that's from the side of the, the logistics. however, if you move to equipment, you know, if it meant that there was going to be a particular change in. in, you know the equipment investment and the amount of money that's required to invest. you know that could be a whole different ballgame and depending on how the ppp terms of reference or fulfil rfp, is drawn out. you know, that's in itself could attract a different kind of caliber but different types of private entities, depending on because remember it has to be attractive for private sector as well. and i think that's the tricky balance between ppp for oxygen, it was very clear because, you know, you have an entity coming putting in a plant, managing it. so, it's aware of how much is going on how much is coming in, and it has the market because rssb already pays for oxygen. so, 80% of the oxygen forget so forth for oxygen it was so clear.\", \"they will not. sometimes they will still negotiate them but they won't go through for instance the ppp steering committee, they most likely will not have feasibility studies done, which is very pertinent for ppp project you must have a feasibility study.\"] and lenght of cluster is 7\n",
      "======================\n"
     ]
    }
   ],
   "source": [
    "\"\"\"\n",
    "This is a simple application for sentence embeddings: clustering\n",
    "\n",
    "Sentences are mapped to sentence embeddings and then agglomerative clustering with a threshold is applied.\n",
    "\"\"\"\n",
    "from sentence_transformers import SentenceTransformer\n",
    "from sklearn.cluster import AgglomerativeClustering\n",
    "import numpy as np\n",
    "\n",
    "embedder = SentenceTransformer('all-MiniLM-L6-v2')\n",
    "\n",
    "# Corpus with example sentences\n",
    "# corpus = ['A man is eating food.',\n",
    "#           'A man is eating a piece of bread.',\n",
    "#           'A man is eating pasta.',\n",
    "#           'The girl is carrying a baby.',\n",
    "#           'The baby is carried by the woman',\n",
    "#           'A man is riding a horse.',\n",
    "#           'A man is riding a white horse on an enclosed ground.',\n",
    "#           'A monkey is playing drums.',\n",
    "#           'Someone in a gorilla costume is playing a set of drums.',\n",
    "#           'A cheetah is running behind its prey.',\n",
    "#           'A cheetah chases prey on across a field.'\n",
    "#           ]\n",
    "corpus=listspecresp\n",
    "        \n",
    "corpus_embeddings = embedder.encode(corpus)\n",
    "\n",
    "# Normalize the embeddings to unit length\n",
    "corpus_embeddings = corpus_embeddings /  np.linalg.norm(corpus_embeddings, axis=1, keepdims=True)\n",
    "\n",
    "# Perform kmean clustering\n",
    "clustering_model = AgglomerativeClustering(n_clusters=None, distance_threshold=1.5) #, affinity='cosine', linkage='average', distance_threshold=0.4)\n",
    "clustering_model.fit(corpus_embeddings)\n",
    "cluster_assignment = clustering_model.labels_\n",
    "\n",
    "clustered_sentences = {}\n",
    "for sentence_id, cluster_id in enumerate(cluster_assignment):\n",
    "    if cluster_id not in clustered_sentences:\n",
    "        clustered_sentences[cluster_id] = []\n",
    "\n",
    "    clustered_sentences[cluster_id].append(corpus[sentence_id])\n",
    "\n",
    "for i, cluster in clustered_sentences.items():\n",
    "    print(\"Cluster \", i+1)\n",
    "    print(f\"{cluster} and lenght of cluster is {len(cluster)}\")\n",
    "    print(\"======================\")\n",
    "\n",
    "#clustered_sentences\n",
    "#cluster_assignment \n"
   ]
  },
  {
   "cell_type": "code",
   "execution_count": 8,
   "metadata": {},
   "outputs": [],
   "source": [
    "# from sentence_transformers import SentenceTransformer, util\n",
    "\n",
    "# model = SentenceTransformer('all-MiniLM-L6-v2')\n",
    "\n",
    "# # Single list of sentences - Possible tens of thousands of sentences\n",
    "# sentences = ['bachelor degree in computer science',\n",
    "#              'computer system technology',\n",
    "#              'bachelor degree in ICT',\n",
    "#              \"bachelor's degree in information & communication technology\",\n",
    "#              \"bachelor's degree in psychology\"\n",
    "#              ]\n",
    "\n",
    "# paraphrases = util.paraphrase_mining(model, sentences)\n",
    "\n",
    "# for paraphrase in paraphrases[0:10]:\n",
    "#     score, i, j = paraphrase\n",
    "#     print(\"{} \\t\\t {} \\t\\t Score: {:.4f}\".format(sentences[i], sentences[j], score))"
   ]
  },
  {
   "cell_type": "code",
   "execution_count": null,
   "metadata": {},
   "outputs": [],
   "source": []
  }
 ],
 "metadata": {
  "kernelspec": {
   "display_name": "Python 3.10.4 64-bit",
   "language": "python",
   "name": "python3"
  },
  "language_info": {
   "codemirror_mode": {
    "name": "ipython",
    "version": 3
   },
   "file_extension": ".py",
   "mimetype": "text/x-python",
   "name": "python",
   "nbconvert_exporter": "python",
   "pygments_lexer": "ipython3",
   "version": "3.10.6 (main, Nov  2 2022, 18:53:38) [GCC 11.3.0]"
  },
  "orig_nbformat": 4,
  "vscode": {
   "interpreter": {
    "hash": "916dbcbb3f70747c44a77c7bcd40155683ae19c65e1c03b4aa3499c5328201f1"
   }
  }
 },
 "nbformat": 4,
 "nbformat_minor": 2
}
