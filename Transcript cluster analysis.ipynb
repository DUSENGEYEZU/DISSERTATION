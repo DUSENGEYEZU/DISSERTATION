{
 "cells": [
  {
   "cell_type": "markdown",
   "metadata": {},
   "source": [
    "# Pharase minging\n",
    "https://www.youtube.com/watch?v=oG297Pvr5RA"
   ]
  },
  {
   "cell_type": "code",
   "execution_count": 12,
   "metadata": {},
   "outputs": [],
   "source": [
    "import pandas as pd\n",
    "dataset=pd.read_csv('dataset/Data/response_and_answer.csv')\n"
   ]
  },
  {
   "cell_type": "code",
   "execution_count": 29,
   "metadata": {},
   "outputs": [
    {
     "name": "stdout",
     "output_type": "stream",
     "text": [
      "<class 'list'>\n"
     ]
    }
   ],
   "source": [
    "# response on sipecific question \n",
    "dfspesresponse=dataset[dataset['Question number']==10]\n",
    "listspecresp=list(dfspesresponse['Responses'])\n",
    "print(type(listspecresp))\n"
   ]
  },
  {
   "cell_type": "code",
   "execution_count": 30,
   "metadata": {},
   "outputs": [],
   "source": [
    "from sentence_transformers import SentenceTransformer\n"
   ]
  },
  {
   "cell_type": "code",
   "execution_count": 39,
   "metadata": {},
   "outputs": [
    {
     "data": {
      "text/plain": [
       "[[0.6246453523635864, 0, 14],\n",
       " [0.5589532852172852, 15, 11],\n",
       " [0.5114577412605286, 0, 9]]"
      ]
     },
     "execution_count": 39,
     "metadata": {},
     "output_type": "execute_result"
    }
   ],
   "source": [
    "from sentence_transformers import SentenceTransformer, util\n",
    "model = SentenceTransformer('all-MiniLM-L6-v2')\n",
    "\n",
    "# Single list of sentences - Possible tens of thousands of sentences\n",
    "sentences = listspecresp\n",
    "\n",
    "paraphrases = util.paraphrase_mining(model, sentences)\n",
    "responsecomp1=[]\n",
    "responsecomp2=[]\n",
    "scoreresp=[]\n",
    "\n",
    "\n",
    "for paraphrase in paraphrases:\n",
    "    score, i, j = paraphrase\n",
    "    #print(\"{} \\t\\t {} \\t\\t Score: {:.4f}\".format(sentences[i], sentences[j], score))\n",
    "    responsecomp1.append(sentences[i])\n",
    "    responsecomp2.append(sentences[j])\n",
    "    scoreresp.append(score)\n",
    "df = pd.DataFrame(list(zip(responsecomp1, responsecomp2,scoreresp)),columns =['responsecomp1', 'responsecomp2','score'])\n",
    "\n",
    "paraphrases[0:3]\n"
   ]
  },
  {
   "cell_type": "code",
   "execution_count": 40,
   "metadata": {},
   "outputs": [
    {
     "data": {
      "text/html": [
       "<div>\n",
       "<style scoped>\n",
       "    .dataframe tbody tr th:only-of-type {\n",
       "        vertical-align: middle;\n",
       "    }\n",
       "\n",
       "    .dataframe tbody tr th {\n",
       "        vertical-align: top;\n",
       "    }\n",
       "\n",
       "    .dataframe thead th {\n",
       "        text-align: right;\n",
       "    }\n",
       "</style>\n",
       "<table border=\"1\" class=\"dataframe\">\n",
       "  <thead>\n",
       "    <tr style=\"text-align: right;\">\n",
       "      <th></th>\n",
       "      <th>responsecomp1</th>\n",
       "      <th>responsecomp2</th>\n",
       "      <th>score</th>\n",
       "    </tr>\n",
       "  </thead>\n",
       "  <tbody>\n",
       "    <tr>\n",
       "      <th>0</th>\n",
       "      <td>with sureness attitude , yes of course you kno...</td>\n",
       "      <td>potentially, everyone because that's the point...</td>\n",
       "      <td>0.624645</td>\n",
       "    </tr>\n",
       "    <tr>\n",
       "      <th>1</th>\n",
       "      <td>yes. about reduced the cost. we were comparing...</td>\n",
       "      <td>yes. you have had abbott as a ppp and a report...</td>\n",
       "      <td>0.558953</td>\n",
       "    </tr>\n",
       "    <tr>\n",
       "      <th>2</th>\n",
       "      <td>with sureness attitude , yes of course you kno...</td>\n",
       "      <td>the legal tools and frameworks are there and t...</td>\n",
       "      <td>0.511458</td>\n",
       "    </tr>\n",
       "    <tr>\n",
       "      <th>3</th>\n",
       "      <td>i think, the current it's mainly health insura...</td>\n",
       "      <td>yeah, they proposed this, and then we started ...</td>\n",
       "      <td>0.507458</td>\n",
       "    </tr>\n",
       "    <tr>\n",
       "      <th>4</th>\n",
       "      <td>yeah, they proposed this, and then we started ...</td>\n",
       "      <td>the legal tools and frameworks are there and t...</td>\n",
       "      <td>0.488223</td>\n",
       "    </tr>\n",
       "    <tr>\n",
       "      <th>...</th>\n",
       "      <td>...</td>\n",
       "      <td>...</td>\n",
       "      <td>...</td>\n",
       "    </tr>\n",
       "    <tr>\n",
       "      <th>148</th>\n",
       "      <td>no, i have not.</td>\n",
       "      <td>potentially, everyone because that's the point...</td>\n",
       "      <td>-0.050431</td>\n",
       "    </tr>\n",
       "    <tr>\n",
       "      <th>149</th>\n",
       "      <td>no, i have not.</td>\n",
       "      <td>i think if i can give you an example, we have ...</td>\n",
       "      <td>-0.063796</td>\n",
       "    </tr>\n",
       "    <tr>\n",
       "      <th>150</th>\n",
       "      <td>no, there's nothing that was changed actually,...</td>\n",
       "      <td>well, i don't know if i can specifically answe...</td>\n",
       "      <td>-0.102727</td>\n",
       "    </tr>\n",
       "    <tr>\n",
       "      <th>151</th>\n",
       "      <td>well, i don't know if i can specifically answe...</td>\n",
       "      <td>no, i have not.</td>\n",
       "      <td>-0.111376</td>\n",
       "    </tr>\n",
       "    <tr>\n",
       "      <th>152</th>\n",
       "      <td>no, i have not.</td>\n",
       "      <td>source of funding can be coming from the servi...</td>\n",
       "      <td>-0.121697</td>\n",
       "    </tr>\n",
       "  </tbody>\n",
       "</table>\n",
       "<p>153 rows × 3 columns</p>\n",
       "</div>"
      ],
      "text/plain": [
       "                                         responsecomp1  \\\n",
       "0    with sureness attitude , yes of course you kno...   \n",
       "1    yes. about reduced the cost. we were comparing...   \n",
       "2    with sureness attitude , yes of course you kno...   \n",
       "3    i think, the current it's mainly health insura...   \n",
       "4    yeah, they proposed this, and then we started ...   \n",
       "..                                                 ...   \n",
       "148                                   no, i have not.    \n",
       "149                                   no, i have not.    \n",
       "150  no, there's nothing that was changed actually,...   \n",
       "151  well, i don't know if i can specifically answe...   \n",
       "152                                   no, i have not.    \n",
       "\n",
       "                                         responsecomp2     score  \n",
       "0    potentially, everyone because that's the point...  0.624645  \n",
       "1    yes. you have had abbott as a ppp and a report...  0.558953  \n",
       "2    the legal tools and frameworks are there and t...  0.511458  \n",
       "3    yeah, they proposed this, and then we started ...  0.507458  \n",
       "4    the legal tools and frameworks are there and t...  0.488223  \n",
       "..                                                 ...       ...  \n",
       "148  potentially, everyone because that's the point... -0.050431  \n",
       "149  i think if i can give you an example, we have ... -0.063796  \n",
       "150  well, i don't know if i can specifically answe... -0.102727  \n",
       "151                                   no, i have not.  -0.111376  \n",
       "152  source of funding can be coming from the servi... -0.121697  \n",
       "\n",
       "[153 rows x 3 columns]"
      ]
     },
     "execution_count": 40,
     "metadata": {},
     "output_type": "execute_result"
    }
   ],
   "source": [
    "df"
   ]
  },
  {
   "cell_type": "code",
   "execution_count": 41,
   "metadata": {},
   "outputs": [
    {
     "data": {
      "text/html": [
       "<div>\n",
       "<style scoped>\n",
       "    .dataframe tbody tr th:only-of-type {\n",
       "        vertical-align: middle;\n",
       "    }\n",
       "\n",
       "    .dataframe tbody tr th {\n",
       "        vertical-align: top;\n",
       "    }\n",
       "\n",
       "    .dataframe thead th {\n",
       "        text-align: right;\n",
       "    }\n",
       "</style>\n",
       "<table border=\"1\" class=\"dataframe\">\n",
       "  <thead>\n",
       "    <tr style=\"text-align: right;\">\n",
       "      <th></th>\n",
       "      <th>responsecomp1</th>\n",
       "      <th>responsecomp2</th>\n",
       "      <th>score</th>\n",
       "    </tr>\n",
       "  </thead>\n",
       "  <tbody>\n",
       "    <tr>\n",
       "      <th>150</th>\n",
       "      <td>no, there's nothing that was changed actually,...</td>\n",
       "      <td>well, i don't know if i can specifically answe...</td>\n",
       "      <td>-0.102727</td>\n",
       "    </tr>\n",
       "    <tr>\n",
       "      <th>151</th>\n",
       "      <td>well, i don't know if i can specifically answe...</td>\n",
       "      <td>no, i have not.</td>\n",
       "      <td>-0.111376</td>\n",
       "    </tr>\n",
       "    <tr>\n",
       "      <th>152</th>\n",
       "      <td>no, i have not.</td>\n",
       "      <td>source of funding can be coming from the servi...</td>\n",
       "      <td>-0.121697</td>\n",
       "    </tr>\n",
       "  </tbody>\n",
       "</table>\n",
       "</div>"
      ],
      "text/plain": [
       "                                         responsecomp1  \\\n",
       "150  no, there's nothing that was changed actually,...   \n",
       "151  well, i don't know if i can specifically answe...   \n",
       "152                                   no, i have not.    \n",
       "\n",
       "                                         responsecomp2     score  \n",
       "150  well, i don't know if i can specifically answe... -0.102727  \n",
       "151                                   no, i have not.  -0.111376  \n",
       "152  source of funding can be coming from the servi... -0.121697  "
      ]
     },
     "execution_count": 41,
     "metadata": {},
     "output_type": "execute_result"
    }
   ],
   "source": [
    "df.tail(3)"
   ]
  },
  {
   "cell_type": "code",
   "execution_count": null,
   "metadata": {},
   "outputs": [],
   "source": []
  }
 ],
 "metadata": {
  "kernelspec": {
   "display_name": "Python 3.10.4 64-bit",
   "language": "python",
   "name": "python3"
  },
  "language_info": {
   "codemirror_mode": {
    "name": "ipython",
    "version": 3
   },
   "file_extension": ".py",
   "mimetype": "text/x-python",
   "name": "python",
   "nbconvert_exporter": "python",
   "pygments_lexer": "ipython3",
   "version": "3.10.4"
  },
  "orig_nbformat": 4,
  "vscode": {
   "interpreter": {
    "hash": "97cc609b13305c559618ec78a438abc56230b9381f827f22d070313b9a1f3777"
   }
  }
 },
 "nbformat": 4,
 "nbformat_minor": 2
}
