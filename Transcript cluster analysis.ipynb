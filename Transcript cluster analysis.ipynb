{
 "cells": [
  {
   "cell_type": "markdown",
   "metadata": {},
   "source": [
    "# Pharase minging\n",
    "https://www.youtube.com/watch?v=oG297Pvr5RA"
   ]
  },
  {
   "cell_type": "code",
   "execution_count": 8,
   "metadata": {},
   "outputs": [],
   "source": [
    "import pandas as pd\n",
    "dataset=pd.read_csv('dataset/Data/response_and_answer.csv')\n"
   ]
  },
  {
   "cell_type": "code",
   "execution_count": 9,
   "metadata": {},
   "outputs": [
    {
     "name": "stdout",
     "output_type": "stream",
     "text": [
      "<class 'list'>\n"
     ]
    }
   ],
   "source": [
    "# response on sipecific question \n",
    "dfspesresponse=dataset[dataset['Question number']==1]\n",
    "listspecresp=list(dfspesresponse['Responses'])\n",
    "print(type(listspecresp))\n"
   ]
  },
  {
   "cell_type": "code",
   "execution_count": 10,
   "metadata": {},
   "outputs": [],
   "source": [
    "from sentence_transformers import SentenceTransformer\n"
   ]
  },
  {
   "cell_type": "code",
   "execution_count": 11,
   "metadata": {},
   "outputs": [
    {
     "data": {
      "text/plain": [
       "[[0.6778116226196289, 1, 16],\n",
       " [0.6087237596511841, 11, 7],\n",
       " [0.6030179262161255, 5, 7]]"
      ]
     },
     "execution_count": 11,
     "metadata": {},
     "output_type": "execute_result"
    }
   ],
   "source": [
    "from sentence_transformers import SentenceTransformer, util\n",
    "model = SentenceTransformer('all-MiniLM-L6-v2')\n",
    "\n",
    "# Single list of sentences - Possible tens of thousands of sentences\n",
    "sentences = listspecresp\n",
    "\n",
    "paraphrases = util.paraphrase_mining(model, sentences)\n",
    "responsecomp1=[]\n",
    "responsecomp2=[]\n",
    "scoreresp=[]\n",
    "\n",
    "\n",
    "for paraphrase in paraphrases:\n",
    "    score, i, j = paraphrase\n",
    "    #print(\"{} \\t\\t {} \\t\\t Score: {:.4f}\".format(sentences[i], sentences[j], score))\n",
    "    responsecomp1.append(sentences[i])\n",
    "    responsecomp2.append(sentences[j])\n",
    "    scoreresp.append(score)\n",
    "df = pd.DataFrame(list(zip(responsecomp1, responsecomp2,scoreresp)),columns =['responsecomp1', 'responsecomp2','score'])\n",
    "\n",
    "paraphrases[0:3]\n"
   ]
  },
  {
   "cell_type": "code",
   "execution_count": 12,
   "metadata": {},
   "outputs": [
    {
     "data": {
      "text/html": [
       "<div>\n",
       "<style scoped>\n",
       "    .dataframe tbody tr th:only-of-type {\n",
       "        vertical-align: middle;\n",
       "    }\n",
       "\n",
       "    .dataframe tbody tr th {\n",
       "        vertical-align: top;\n",
       "    }\n",
       "\n",
       "    .dataframe thead th {\n",
       "        text-align: right;\n",
       "    }\n",
       "</style>\n",
       "<table border=\"1\" class=\"dataframe\">\n",
       "  <thead>\n",
       "    <tr style=\"text-align: right;\">\n",
       "      <th></th>\n",
       "      <th>responsecomp1</th>\n",
       "      <th>responsecomp2</th>\n",
       "      <th>score</th>\n",
       "    </tr>\n",
       "  </thead>\n",
       "  <tbody>\n",
       "    <tr>\n",
       "      <th>0</th>\n",
       "      <td>thank you very much. i was very much involved ...</td>\n",
       "      <td>so i worked as a senior associate on chai rwan...</td>\n",
       "      <td>0.677812</td>\n",
       "    </tr>\n",
       "    <tr>\n",
       "      <th>1</th>\n",
       "      <td>when i look into the health system and or even...</td>\n",
       "      <td>i haven't seen that many ppps in health, there...</td>\n",
       "      <td>0.608724</td>\n",
       "    </tr>\n",
       "    <tr>\n",
       "      <th>2</th>\n",
       "      <td>what i saw along the areas of negotiation, the...</td>\n",
       "      <td>i haven't seen that many ppps in health, there...</td>\n",
       "      <td>0.603018</td>\n",
       "    </tr>\n",
       "    <tr>\n",
       "      <th>3</th>\n",
       "      <td>what i saw along the areas of negotiation, the...</td>\n",
       "      <td>when i look into the health system and or even...</td>\n",
       "      <td>0.583132</td>\n",
       "    </tr>\n",
       "    <tr>\n",
       "      <th>4</th>\n",
       "      <td>what i saw along the areas of negotiation, the...</td>\n",
       "      <td>so i think we need to understand faster, i wou...</td>\n",
       "      <td>0.559805</td>\n",
       "    </tr>\n",
       "    <tr>\n",
       "      <th>...</th>\n",
       "      <td>...</td>\n",
       "      <td>...</td>\n",
       "      <td>...</td>\n",
       "    </tr>\n",
       "    <tr>\n",
       "      <th>148</th>\n",
       "      <td>i think the one part of sustainability is that...</td>\n",
       "      <td>i think i know about those assessment that was...</td>\n",
       "      <td>0.059677</td>\n",
       "    </tr>\n",
       "    <tr>\n",
       "      <th>149</th>\n",
       "      <td>with attitude of convincing , if we want to ha...</td>\n",
       "      <td>i think i know about those assessment that was...</td>\n",
       "      <td>0.043454</td>\n",
       "    </tr>\n",
       "    <tr>\n",
       "      <th>150</th>\n",
       "      <td>so, i think the other part that is not involve...</td>\n",
       "      <td>you know, something that every organization bu...</td>\n",
       "      <td>0.013675</td>\n",
       "    </tr>\n",
       "    <tr>\n",
       "      <th>151</th>\n",
       "      <td>i think i know about those assessment that was...</td>\n",
       "      <td>so, i think the other part that is not involve...</td>\n",
       "      <td>-0.018884</td>\n",
       "    </tr>\n",
       "    <tr>\n",
       "      <th>152</th>\n",
       "      <td>with attitude of happiness , i was the head of...</td>\n",
       "      <td>so, i think the other part that is not involve...</td>\n",
       "      <td>-0.030553</td>\n",
       "    </tr>\n",
       "  </tbody>\n",
       "</table>\n",
       "<p>153 rows × 3 columns</p>\n",
       "</div>"
      ],
      "text/plain": [
       "                                         responsecomp1  \\\n",
       "0    thank you very much. i was very much involved ...   \n",
       "1    when i look into the health system and or even...   \n",
       "2    what i saw along the areas of negotiation, the...   \n",
       "3    what i saw along the areas of negotiation, the...   \n",
       "4    what i saw along the areas of negotiation, the...   \n",
       "..                                                 ...   \n",
       "148  i think the one part of sustainability is that...   \n",
       "149  with attitude of convincing , if we want to ha...   \n",
       "150  so, i think the other part that is not involve...   \n",
       "151  i think i know about those assessment that was...   \n",
       "152  with attitude of happiness , i was the head of...   \n",
       "\n",
       "                                         responsecomp2     score  \n",
       "0    so i worked as a senior associate on chai rwan...  0.677812  \n",
       "1    i haven't seen that many ppps in health, there...  0.608724  \n",
       "2    i haven't seen that many ppps in health, there...  0.603018  \n",
       "3    when i look into the health system and or even...  0.583132  \n",
       "4    so i think we need to understand faster, i wou...  0.559805  \n",
       "..                                                 ...       ...  \n",
       "148  i think i know about those assessment that was...  0.059677  \n",
       "149  i think i know about those assessment that was...  0.043454  \n",
       "150  you know, something that every organization bu...  0.013675  \n",
       "151  so, i think the other part that is not involve... -0.018884  \n",
       "152  so, i think the other part that is not involve... -0.030553  \n",
       "\n",
       "[153 rows x 3 columns]"
      ]
     },
     "execution_count": 12,
     "metadata": {},
     "output_type": "execute_result"
    }
   ],
   "source": [
    "df"
   ]
  },
  {
   "cell_type": "code",
   "execution_count": 13,
   "metadata": {},
   "outputs": [
    {
     "data": {
      "text/html": [
       "<div>\n",
       "<style scoped>\n",
       "    .dataframe tbody tr th:only-of-type {\n",
       "        vertical-align: middle;\n",
       "    }\n",
       "\n",
       "    .dataframe tbody tr th {\n",
       "        vertical-align: top;\n",
       "    }\n",
       "\n",
       "    .dataframe thead th {\n",
       "        text-align: right;\n",
       "    }\n",
       "</style>\n",
       "<table border=\"1\" class=\"dataframe\">\n",
       "  <thead>\n",
       "    <tr style=\"text-align: right;\">\n",
       "      <th></th>\n",
       "      <th>responsecomp1</th>\n",
       "      <th>responsecomp2</th>\n",
       "      <th>score</th>\n",
       "    </tr>\n",
       "  </thead>\n",
       "  <tbody>\n",
       "    <tr>\n",
       "      <th>150</th>\n",
       "      <td>so, i think the other part that is not involve...</td>\n",
       "      <td>you know, something that every organization bu...</td>\n",
       "      <td>0.013675</td>\n",
       "    </tr>\n",
       "    <tr>\n",
       "      <th>151</th>\n",
       "      <td>i think i know about those assessment that was...</td>\n",
       "      <td>so, i think the other part that is not involve...</td>\n",
       "      <td>-0.018884</td>\n",
       "    </tr>\n",
       "    <tr>\n",
       "      <th>152</th>\n",
       "      <td>with attitude of happiness , i was the head of...</td>\n",
       "      <td>so, i think the other part that is not involve...</td>\n",
       "      <td>-0.030553</td>\n",
       "    </tr>\n",
       "  </tbody>\n",
       "</table>\n",
       "</div>"
      ],
      "text/plain": [
       "                                         responsecomp1  \\\n",
       "150  so, i think the other part that is not involve...   \n",
       "151  i think i know about those assessment that was...   \n",
       "152  with attitude of happiness , i was the head of...   \n",
       "\n",
       "                                         responsecomp2     score  \n",
       "150  you know, something that every organization bu...  0.013675  \n",
       "151  so, i think the other part that is not involve... -0.018884  \n",
       "152  so, i think the other part that is not involve... -0.030553  "
      ]
     },
     "execution_count": 13,
     "metadata": {},
     "output_type": "execute_result"
    }
   ],
   "source": [
    "df.tail(3)"
   ]
  },
  {
   "cell_type": "markdown",
   "metadata": {},
   "source": [
    "# clustering"
   ]
  },
  {
   "cell_type": "code",
   "execution_count": 14,
   "metadata": {},
   "outputs": [
    {
     "name": "stdout",
     "output_type": "stream",
     "text": [
      "Cluster  2\n",
      "['with attitude of happiness , i was the head of biomedical services department at rwanda biomedical center, i had in charge the national reference lab, and overseeing all hospital lab networks, the transfusion services, and medical technology division. i was supervising many activities including activities related to diagnostics and how they will rolled out into our system at the rwanda biomedical center. ', \"thank you very much. i was very much involved in the, ppp between,my employer and the government of rwanda, but that one was not introduced,in the framework of the ahdp because it's an initiative team that was initiated between the two partners, but it was not led by or done through, the ahdp so if am to answer,in relation to what was doneunder ahdp, there is nothing so far but in terms of what my company did or my employer with the government of rwanda,i can demonstrate my involvement. thank you.\", 'so i worked as a senior associate on chai rwanda team. i provided the lab technical inputs on the ahdp work alongside my colleagues, one of them had more knowledge in the costing side of the work. the other one had the overall oversight over the strategic direction alongside the global team.but my role was the lab technical work on the team.'] and lenght of cluster is 3\n",
      "======================\n",
      "Cluster  1\n",
      "[\"to me the ppp should be stratified, stratified to make sure you take the best in every portion. otherwise, if the scope is wide there will be some areas where it goes well, some others you don't get the best. \", 'with attitude of convincing , if we want to have a sustainable ppp investment we do not need to rush we have to sit down and discuss, put all the stakeholders on the table and come up with a model which can respond to the needs in rwanda not just picking something from ghana or ethiopia and come and implement it here. we need to look at all parameters', 'i think i know about those assessment that was done.', 'what i saw along the areas of negotiation, the providers from rbc side. what we were looking at would be, how the ppp would look like in sample transportation, and this is a private person coming in the laboratory. and how would the lab be separable from the hospital. there were those worries, how are we bringing in this private person operating in the public hospital. and how the quality and the management would be assured in this. but this was discussed on and according the design, this was settled for the m&e. team framework were prepared to tackle and it was central coordinated transportation trucking, and also that trucking of delivery of samples and return of the result so this worry was discussed and was cleared. thatâ€™s was worry number one and worry number two was the expensive means of bringing in the ppp, the private person who will bring in increased costs on the test and there yet we have the mutuelle health insurance which will not cover the increase of cost in these tests, but we thought that this is going to be considered after the ppp model is agreed on. then it will be a discussion with the rssb to see how do we caterer. however, these were considered to be minimal like increment this small in the transportation cost for the samples, but it was needed to show what is the profit or the returnof investment to the government of rwanda is going to get from having a ppp instead of like working as a status core as it has been working. we thought why the government canâ€™t invest in improving the quality of laboratory services themselves as they know better the problem so then we change our status core instead of bringing in private person. then we discussed about the financial analysis and caches looking at the gains that the ppp model will bring up the growth that will be shared between the private and the government of rwanda after ppp timeline. we realized that it would take us a long time and much more investment to change the status core. ', \"you know, something that every organization builds up the capacity, according tolet's say turnover or according to its, needs the size can grow. you know? so if, for example you are asking me, i will give an example, although it may not be, if you are asking me, for example, to run a laboratory now to run a laboratory, it means that i need people machines, material. yeah. then i'm moving into a different level.i have here about 25 employees. i cannot run laboratories, but if let's say you say that, we don't want to manage the lab, you manage the lab. it means that every laboratory will meet a head count of 4, 5, 6, 7, 8, 10 people, depending on the size of the lab so this obviously it's you move to a different level. yes. for a long time from here capacity can grow but again, to grow, that's what i said earlier. you need the stability and, you know, i cannot double my staff to accept, whatever is needed as input in the ppp and then next year, or next six months, these collapses you understand? capacity currently is not here, but can grow given that you are assure that it's going to be a long partnership and stable. \", \"i haven't seen that many ppps in health, there's one that we're hoping will take effect they are still at the feasibility study stage. it looks promising. they have taken quite a long time developing the feasibility study, but that is because it went to the process provided for under the law, so they are expected to have that feasibility study done approved by the contracting authority submitted to the steering committee, before it progresses to contract negotiation.but the rest of the contracts we have seen in health you know they're outside the ppp format. so you'll have management or service contracts you know between the public sector and the private partner.\", \"i think i would answer two things here. i think the financial instruments proposed by ahdp were inappropriate, they felt very risky.so, i think they should have been alternatives, a broader range of instruments, whereas here that range of instruments seemed very narrow, at least that was the perception that i had, i could be wrong.i think the work that was done under ahdp however, like i said, is not wasted because it really on earthed the opportunities, you know, not just the challenges, but what are the opportunities to improve. and even though the argument is made that you cannot just improve one piece. you have to improve all of it, for there to be progress i think it's opened up, you know, for those who've really internalized the main messages. i think it's really led to some of the workers, you know some of the reforms that that are being implemented i think the one around decentralization and transportation. i know that the lab team have started something on that or they were starting something that it's based on some of these findings, combined with the dno work as well. so, i think the opportunity, you know, a lot has been annette, the challenge of the lab. salaries as well you know that's been on earth as well. so, i think there are a lot of things that have been on earth now that can, you know, even without, you know without, without a project, you know government now has, you know, pieces that we can start working on and building on as well and if they do decide to go holistically, they have a starting point to build from.\", 'i do recommend if you can, as i said, you can have people can be okay. and you can have people that are between but how can we make sure those people are hesitant. make a pilot can we make a pilot? and at then at the end of pilot, six months or one month one year we have a study which can show that model is working that model can be sustainable. that model has these challenges, a, b, c, d, but those challenges are minimal and can be addressed these ways. so that can be scientific and can assure everyone who can be hesitant to implement the, the project yeah. okay.', \"from the ppp process when started at that time, i wasn't yet in my position, but i read the report, but was obtained from what has been done so far. for my side, at that time, when i came in, i had to look into the report, what is the report? and what are the national strategies that are putting into place to improve? the quality of service delivered, advice as technical part of the technical team. so we looked into the national strategies as far as the lab is concerned that are put into place to improve the service. and look as well into the recommendations from the ppp and advice whether we proceed with the ppp or if we go for the national strategy or strategy is put into place and see whether we can proceed with the ppp when the time comes. so we looked into the strategies that are put into place at that time and yes we looked into what the ppp was to offer. and yes we advise that for the ppp we should wait for a moment for the strategies put into place to be implemented and see what the outcome from the strategies are? and therefore looking to the ppps proposing and from there, you know, which type of ppp you can prefer.\", \"when i look into the health system and or even service delivery, all i think is ideal is to increase the access of, of services by decentralizing the services to the lowest level possible. so the best ppp should actually act in that direction where we have the populationdown there, able to access the and best on the services, the bigger, the package of tests possible to the lowest level, instead ofall the time, getting a and say these tests are not, we are not able to do them. you need to go to another level, see most of patients will lose, will lose them in that way of referring them. and later on, we get them very sick and even not able to even put them anymore, why it was preventable if that this were done down there even before the case, wasn't so decentralizing and increasing the access of services, it's all priority and it's key to the quality of services.\", 'those are stakeholders. because the hospitals, collect living through insurance premiums. so those are clients. those are clients like any other client. ', 'so, i think the other part that is not involved in the joint public private venture on my own understanding the one who should be threatened is the investor who did not sign the contract so he/she can be involved in the business.', \"i don't think we ever analyzed the policy, the government policy on ppp , you know, what's included how, what are the criteria,the framework, and whether it's a party or not supportive, or what, you know,what some of the key considerations in that policy. i mean i don't know if maybe some of the other team members did it, but it was not something explicit, right?itâ€™s not something that we did as part of a structured effort or work plan maybe it was done but i don't think we did it as a team. we did not analyze the policy on ppp or evaluate to discuss it as a team, so maybe it was done, but i was not involved in that. so as i know, we didn't do it as a team that policy analysis.\", \"i think the one part of sustainability is that financing since this government budget, i don't think that what goes through the government budget. i don't think that we stop tomorrow and members will not stop paying their contributions. so insurance is a sustainable way of having these services run. so now what can threaten the sustainability is the cost of running the lab. since i have not looked at the model, if it is reasonable enough for the public and private operators, not to lose through providing this service, just because insurance didn't pay didn't reimburse enough. so if that is guaranteed, then there is no other threat to sustainability. so we have to the costing model if it respected the affordability part of it sustainability would be guaranteed. \", \"so i think we need to understand faster, i would need to fully understand the landscape of the laboratory. i would still do a proper feasibility study of the lab. so kind of study but also the last thing i would widen the net in terms of stakeholders, not limited to a few nuclear change, if you have to introduce to others, but have everyone on the table, not just a steering committee but how people constantly engaged to show them the benefit of the ppp or not activity, and then also the other bit. i think i would have an earlier discussions with the private sector and the insurance companies, they couldn't be government owned or community based, but they could also be privately or understand, what can manage what cannot be managed. but also i think one of the things that would need to help a country would be start immediately from the get go, negotiating the real debt course and including things like bundling price per test.and then, just the reagents, so that the manufacturer, as always, in the country agents of manufacturers are aligned with the country need in terms of cost, and the volumes that are available in the country. so, that is what i think i would do.\"] and lenght of cluster is 15\n",
      "======================\n"
     ]
    }
   ],
   "source": [
    "\"\"\"\n",
    "This is a simple application for sentence embeddings: clustering\n",
    "\n",
    "Sentences are mapped to sentence embeddings and then agglomerative clustering with a threshold is applied.\n",
    "\"\"\"\n",
    "from sentence_transformers import SentenceTransformer\n",
    "from sklearn.cluster import AgglomerativeClustering\n",
    "import numpy as np\n",
    "\n",
    "embedder = SentenceTransformer('all-MiniLM-L6-v2')\n",
    "\n",
    "# Corpus with example sentences\n",
    "# corpus = ['A man is eating food.',\n",
    "#           'A man is eating a piece of bread.',\n",
    "#           'A man is eating pasta.',\n",
    "#           'The girl is carrying a baby.',\n",
    "#           'The baby is carried by the woman',\n",
    "#           'A man is riding a horse.',\n",
    "#           'A man is riding a white horse on an enclosed ground.',\n",
    "#           'A monkey is playing drums.',\n",
    "#           'Someone in a gorilla costume is playing a set of drums.',\n",
    "#           'A cheetah is running behind its prey.',\n",
    "#           'A cheetah chases prey on across a field.'\n",
    "#           ]\n",
    "corpus=listspecresp\n",
    "        \n",
    "corpus_embeddings = embedder.encode(corpus)\n",
    "\n",
    "# Normalize the embeddings to unit length\n",
    "corpus_embeddings = corpus_embeddings /  np.linalg.norm(corpus_embeddings, axis=1, keepdims=True)\n",
    "\n",
    "# Perform kmean clustering\n",
    "clustering_model = AgglomerativeClustering(n_clusters=None, distance_threshold=1.5) #, affinity='cosine', linkage='average', distance_threshold=0.4)\n",
    "clustering_model.fit(corpus_embeddings)\n",
    "cluster_assignment = clustering_model.labels_\n",
    "\n",
    "clustered_sentences = {}\n",
    "for sentence_id, cluster_id in enumerate(cluster_assignment):\n",
    "    if cluster_id not in clustered_sentences:\n",
    "        clustered_sentences[cluster_id] = []\n",
    "\n",
    "    clustered_sentences[cluster_id].append(corpus[sentence_id])\n",
    "\n",
    "for i, cluster in clustered_sentences.items():\n",
    "    print(\"Cluster \", i+1)\n",
    "    print(f\"{cluster} and lenght of cluster is {len(cluster)}\")\n",
    "    print(\"======================\")\n",
    "\n",
    "#clustered_sentences\n",
    "#cluster_assignment \n"
   ]
  },
  {
   "cell_type": "code",
   "execution_count": null,
   "metadata": {},
   "outputs": [],
   "source": []
  }
 ],
 "metadata": {
  "kernelspec": {
   "display_name": "Python 3.10.4 64-bit",
   "language": "python",
   "name": "python3"
  },
  "language_info": {
   "codemirror_mode": {
    "name": "ipython",
    "version": 3
   },
   "file_extension": ".py",
   "mimetype": "text/x-python",
   "name": "python",
   "nbconvert_exporter": "python",
   "pygments_lexer": "ipython3",
   "version": "3.10.4"
  },
  "orig_nbformat": 4,
  "vscode": {
   "interpreter": {
    "hash": "97cc609b13305c559618ec78a438abc56230b9381f827f22d070313b9a1f3777"
   }
  }
 },
 "nbformat": 4,
 "nbformat_minor": 2
}
