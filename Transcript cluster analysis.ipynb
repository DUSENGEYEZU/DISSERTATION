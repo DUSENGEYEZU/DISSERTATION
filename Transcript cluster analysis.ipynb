{
 "cells": [
  {
   "cell_type": "markdown",
   "metadata": {},
   "source": [
    "# Pharase minging\n",
    "https://www.youtube.com/watch?v=oG297Pvr5RA"
   ]
  },
  {
   "cell_type": "code",
   "execution_count": 9,
   "metadata": {},
   "outputs": [],
   "source": [
    "import pandas as pd\n",
    "dataset=pd.read_csv('dataset/Data/response_and_answer.csv')\n"
   ]
  },
  {
   "cell_type": "code",
   "execution_count": 23,
   "metadata": {},
   "outputs": [
    {
     "name": "stdout",
     "output_type": "stream",
     "text": [
      "<class 'list'>\n"
     ]
    }
   ],
   "source": [
    "# response on sipecific question \n",
    "dfspesresponse=dataset[dataset['Question number']==1]\n",
    "listspecresp=list(dfspesresponse['Responses'])\n",
    "print(type(listspecresp))\n"
   ]
  },
  {
   "cell_type": "code",
   "execution_count": 11,
   "metadata": {},
   "outputs": [],
   "source": [
    "from sentence_transformers import SentenceTransformer\n"
   ]
  },
  {
   "cell_type": "code",
   "execution_count": 12,
   "metadata": {},
   "outputs": [
    {
     "data": {
      "text/plain": [
       "[[0.6778116226196289, 1, 16],\n",
       " [0.6087237596511841, 11, 7],\n",
       " [0.6030179262161255, 5, 7]]"
      ]
     },
     "execution_count": 12,
     "metadata": {},
     "output_type": "execute_result"
    }
   ],
   "source": [
    "from sentence_transformers import SentenceTransformer, util\n",
    "model = SentenceTransformer('all-MiniLM-L6-v2')\n",
    "\n",
    "# Single list of sentences - Possible tens of thousands of sentences\n",
    "sentences = listspecresp\n",
    "\n",
    "paraphrases = util.paraphrase_mining(model, sentences)\n",
    "responsecomp1=[]\n",
    "responsecomp2=[]\n",
    "scoreresp=[]\n",
    "\n",
    "\n",
    "for paraphrase in paraphrases:\n",
    "    score, i, j = paraphrase\n",
    "    #print(\"{} \\t\\t {} \\t\\t Score: {:.4f}\".format(sentences[i], sentences[j], score))\n",
    "    responsecomp1.append(sentences[i])\n",
    "    responsecomp2.append(sentences[j])\n",
    "    scoreresp.append(score)\n",
    "df = pd.DataFrame(list(zip(responsecomp1, responsecomp2,scoreresp)),columns =['responsecomp1', 'responsecomp2','score'])\n",
    "\n",
    "paraphrases[0:3]\n"
   ]
  },
  {
   "cell_type": "code",
   "execution_count": 13,
   "metadata": {},
   "outputs": [
    {
     "data": {
      "text/html": [
       "<div>\n",
       "<style scoped>\n",
       "    .dataframe tbody tr th:only-of-type {\n",
       "        vertical-align: middle;\n",
       "    }\n",
       "\n",
       "    .dataframe tbody tr th {\n",
       "        vertical-align: top;\n",
       "    }\n",
       "\n",
       "    .dataframe thead th {\n",
       "        text-align: right;\n",
       "    }\n",
       "</style>\n",
       "<table border=\"1\" class=\"dataframe\">\n",
       "  <thead>\n",
       "    <tr style=\"text-align: right;\">\n",
       "      <th></th>\n",
       "      <th>responsecomp1</th>\n",
       "      <th>responsecomp2</th>\n",
       "      <th>score</th>\n",
       "    </tr>\n",
       "  </thead>\n",
       "  <tbody>\n",
       "    <tr>\n",
       "      <th>0</th>\n",
       "      <td>thank you very much. i was very much involved ...</td>\n",
       "      <td>so i worked as a senior associate on chai rwan...</td>\n",
       "      <td>0.677812</td>\n",
       "    </tr>\n",
       "    <tr>\n",
       "      <th>1</th>\n",
       "      <td>when i look into the health system and or even...</td>\n",
       "      <td>i haven't seen that many ppps in health, there...</td>\n",
       "      <td>0.608724</td>\n",
       "    </tr>\n",
       "    <tr>\n",
       "      <th>2</th>\n",
       "      <td>what i saw along the areas of negotiation, the...</td>\n",
       "      <td>i haven't seen that many ppps in health, there...</td>\n",
       "      <td>0.603018</td>\n",
       "    </tr>\n",
       "    <tr>\n",
       "      <th>3</th>\n",
       "      <td>what i saw along the areas of negotiation, the...</td>\n",
       "      <td>when i look into the health system and or even...</td>\n",
       "      <td>0.583132</td>\n",
       "    </tr>\n",
       "    <tr>\n",
       "      <th>4</th>\n",
       "      <td>what i saw along the areas of negotiation, the...</td>\n",
       "      <td>so i think we need to understand faster, i wou...</td>\n",
       "      <td>0.559805</td>\n",
       "    </tr>\n",
       "    <tr>\n",
       "      <th>...</th>\n",
       "      <td>...</td>\n",
       "      <td>...</td>\n",
       "      <td>...</td>\n",
       "    </tr>\n",
       "    <tr>\n",
       "      <th>148</th>\n",
       "      <td>i think the one part of sustainability is that...</td>\n",
       "      <td>i think i know about those assessment that was...</td>\n",
       "      <td>0.059677</td>\n",
       "    </tr>\n",
       "    <tr>\n",
       "      <th>149</th>\n",
       "      <td>with attitude of convincing , if we want to ha...</td>\n",
       "      <td>i think i know about those assessment that was...</td>\n",
       "      <td>0.043454</td>\n",
       "    </tr>\n",
       "    <tr>\n",
       "      <th>150</th>\n",
       "      <td>so, i think the other part that is not involve...</td>\n",
       "      <td>you know, something that every organization bu...</td>\n",
       "      <td>0.013675</td>\n",
       "    </tr>\n",
       "    <tr>\n",
       "      <th>151</th>\n",
       "      <td>i think i know about those assessment that was...</td>\n",
       "      <td>so, i think the other part that is not involve...</td>\n",
       "      <td>-0.018884</td>\n",
       "    </tr>\n",
       "    <tr>\n",
       "      <th>152</th>\n",
       "      <td>with attitude of happiness , i was the head of...</td>\n",
       "      <td>so, i think the other part that is not involve...</td>\n",
       "      <td>-0.030553</td>\n",
       "    </tr>\n",
       "  </tbody>\n",
       "</table>\n",
       "<p>153 rows × 3 columns</p>\n",
       "</div>"
      ],
      "text/plain": [
       "                                         responsecomp1  \\\n",
       "0    thank you very much. i was very much involved ...   \n",
       "1    when i look into the health system and or even...   \n",
       "2    what i saw along the areas of negotiation, the...   \n",
       "3    what i saw along the areas of negotiation, the...   \n",
       "4    what i saw along the areas of negotiation, the...   \n",
       "..                                                 ...   \n",
       "148  i think the one part of sustainability is that...   \n",
       "149  with attitude of convincing , if we want to ha...   \n",
       "150  so, i think the other part that is not involve...   \n",
       "151  i think i know about those assessment that was...   \n",
       "152  with attitude of happiness , i was the head of...   \n",
       "\n",
       "                                         responsecomp2     score  \n",
       "0    so i worked as a senior associate on chai rwan...  0.677812  \n",
       "1    i haven't seen that many ppps in health, there...  0.608724  \n",
       "2    i haven't seen that many ppps in health, there...  0.603018  \n",
       "3    when i look into the health system and or even...  0.583132  \n",
       "4    so i think we need to understand faster, i wou...  0.559805  \n",
       "..                                                 ...       ...  \n",
       "148  i think i know about those assessment that was...  0.059677  \n",
       "149  i think i know about those assessment that was...  0.043454  \n",
       "150  you know, something that every organization bu...  0.013675  \n",
       "151  so, i think the other part that is not involve... -0.018884  \n",
       "152  so, i think the other part that is not involve... -0.030553  \n",
       "\n",
       "[153 rows x 3 columns]"
      ]
     },
     "execution_count": 13,
     "metadata": {},
     "output_type": "execute_result"
    }
   ],
   "source": [
    "df"
   ]
  },
  {
   "cell_type": "code",
   "execution_count": 14,
   "metadata": {},
   "outputs": [
    {
     "data": {
      "text/html": [
       "<div>\n",
       "<style scoped>\n",
       "    .dataframe tbody tr th:only-of-type {\n",
       "        vertical-align: middle;\n",
       "    }\n",
       "\n",
       "    .dataframe tbody tr th {\n",
       "        vertical-align: top;\n",
       "    }\n",
       "\n",
       "    .dataframe thead th {\n",
       "        text-align: right;\n",
       "    }\n",
       "</style>\n",
       "<table border=\"1\" class=\"dataframe\">\n",
       "  <thead>\n",
       "    <tr style=\"text-align: right;\">\n",
       "      <th></th>\n",
       "      <th>responsecomp1</th>\n",
       "      <th>responsecomp2</th>\n",
       "      <th>score</th>\n",
       "    </tr>\n",
       "  </thead>\n",
       "  <tbody>\n",
       "    <tr>\n",
       "      <th>150</th>\n",
       "      <td>so, i think the other part that is not involve...</td>\n",
       "      <td>you know, something that every organization bu...</td>\n",
       "      <td>0.013675</td>\n",
       "    </tr>\n",
       "    <tr>\n",
       "      <th>151</th>\n",
       "      <td>i think i know about those assessment that was...</td>\n",
       "      <td>so, i think the other part that is not involve...</td>\n",
       "      <td>-0.018884</td>\n",
       "    </tr>\n",
       "    <tr>\n",
       "      <th>152</th>\n",
       "      <td>with attitude of happiness , i was the head of...</td>\n",
       "      <td>so, i think the other part that is not involve...</td>\n",
       "      <td>-0.030553</td>\n",
       "    </tr>\n",
       "  </tbody>\n",
       "</table>\n",
       "</div>"
      ],
      "text/plain": [
       "                                         responsecomp1  \\\n",
       "150  so, i think the other part that is not involve...   \n",
       "151  i think i know about those assessment that was...   \n",
       "152  with attitude of happiness , i was the head of...   \n",
       "\n",
       "                                         responsecomp2     score  \n",
       "150  you know, something that every organization bu...  0.013675  \n",
       "151  so, i think the other part that is not involve... -0.018884  \n",
       "152  so, i think the other part that is not involve... -0.030553  "
      ]
     },
     "execution_count": 14,
     "metadata": {},
     "output_type": "execute_result"
    }
   ],
   "source": [
    "df.tail(3)"
   ]
  },
  {
   "cell_type": "markdown",
   "metadata": {},
   "source": [
    "# clustering"
   ]
  },
  {
   "cell_type": "code",
   "execution_count": 25,
   "metadata": {},
   "outputs": [
    {
     "data": {
      "text/plain": [
       "array([1, 1, 0, 0, 0, 0, 0, 0, 0, 0, 0, 0, 0, 0, 0, 0, 1, 0])"
      ]
     },
     "execution_count": 25,
     "metadata": {},
     "output_type": "execute_result"
    }
   ],
   "source": [
    "\"\"\"\n",
    "This is a simple application for sentence embeddings: clustering\n",
    "\n",
    "Sentences are mapped to sentence embeddings and then agglomerative clustering with a threshold is applied.\n",
    "\"\"\"\n",
    "from sentence_transformers import SentenceTransformer\n",
    "from sklearn.cluster import AgglomerativeClustering\n",
    "import numpy as np\n",
    "\n",
    "embedder = SentenceTransformer('all-MiniLM-L6-v2')\n",
    "\n",
    "# Corpus with example sentences\n",
    "# corpus = ['A man is eating food.',\n",
    "#           'A man is eating a piece of bread.',\n",
    "#           'A man is eating pasta.',\n",
    "#           'The girl is carrying a baby.',\n",
    "#           'The baby is carried by the woman',\n",
    "#           'A man is riding a horse.',\n",
    "#           'A man is riding a white horse on an enclosed ground.',\n",
    "#           'A monkey is playing drums.',\n",
    "#           'Someone in a gorilla costume is playing a set of drums.',\n",
    "#           'A cheetah is running behind its prey.',\n",
    "#           'A cheetah chases prey on across a field.'\n",
    "#           ]\n",
    "corpus=listspecresp\n",
    "        \n",
    "corpus_embeddings = embedder.encode(corpus)\n",
    "\n",
    "# Normalize the embeddings to unit length\n",
    "corpus_embeddings = corpus_embeddings /  np.linalg.norm(corpus_embeddings, axis=1, keepdims=True)\n",
    "\n",
    "# Perform kmean clustering\n",
    "clustering_model = AgglomerativeClustering(n_clusters=None, distance_threshold=1.5) #, affinity='cosine', linkage='average', distance_threshold=0.4)\n",
    "clustering_model.fit(corpus_embeddings)\n",
    "cluster_assignment = clustering_model.labels_\n",
    "\n",
    "clustered_sentences = {}\n",
    "for sentence_id, cluster_id in enumerate(cluster_assignment):\n",
    "    if cluster_id not in clustered_sentences:\n",
    "        clustered_sentences[cluster_id] = []\n",
    "\n",
    "    clustered_sentences[cluster_id].append(corpus[sentence_id])\n",
    "\n",
    "for i, cluster in clustered_sentences.items():\n",
    "    print(\"Cluster \", i+1)\n",
    "    print(f\"{cluster} and lenght of cluster is {len(cluster)}\")\n",
    "    print(\"======================\")\n",
    "\n",
    "#clustered_sentences\n",
    "#cluster_assignment \n"
   ]
  },
  {
   "cell_type": "code",
   "execution_count": null,
   "metadata": {},
   "outputs": [],
   "source": []
  }
 ],
 "metadata": {
  "kernelspec": {
   "display_name": "Python 3.10.4 64-bit",
   "language": "python",
   "name": "python3"
  },
  "language_info": {
   "codemirror_mode": {
    "name": "ipython",
    "version": 3
   },
   "file_extension": ".py",
   "mimetype": "text/x-python",
   "name": "python",
   "nbconvert_exporter": "python",
   "pygments_lexer": "ipython3",
   "version": "3.10.4"
  },
  "orig_nbformat": 4,
  "vscode": {
   "interpreter": {
    "hash": "97cc609b13305c559618ec78a438abc56230b9381f827f22d070313b9a1f3777"
   }
  }
 },
 "nbformat": 4,
 "nbformat_minor": 2
}
