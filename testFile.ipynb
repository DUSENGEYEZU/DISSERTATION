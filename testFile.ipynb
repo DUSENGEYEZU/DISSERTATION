{
 "cells": [
  {
   "cell_type": "code",
   "execution_count": 6,
   "metadata": {},
   "outputs": [
    {
     "name": "stdout",
     "output_type": "stream",
     "text": [
      "52\n"
     ]
    }
   ],
   "source": [
    "\n",
    "import re\n",
    "\n",
    "from numpy import size\n",
    "\n",
    "fileObject = open(\"dataset/Data/RWA-int-PE-2021-10-26-FI.txt\", 'r',encoding='cp1250')\n",
    "data = fileObject.read()\n",
    "portern='Respondent(.+)'\n",
    "result=re.findall(portern,data)\n",
    "print(size(result))\n",
    "#print(type(result))"
   ]
  },
  {
   "cell_type": "code",
   "execution_count": 7,
   "metadata": {},
   "outputs": [
    {
     "data": {
      "text/plain": [
       "str"
      ]
     },
     "execution_count": 7,
     "metadata": {},
     "output_type": "execute_result"
    }
   ],
   "source": [
    "# comvert list to string \n",
    "dataset=' '.join(str(item) for item in result)\n",
    "type(dataset)"
   ]
  },
  {
   "cell_type": "code",
   "execution_count": 8,
   "metadata": {},
   "outputs": [
    {
     "data": {
      "text/plain": [
       "': (With attitude of happiness), I was the head of biomedical services department at Rwanda biomedical center, I had in charge the national reference lab, and overseeing all hospital lab networks, the transfusion services, and medical technology division. I was supervising many activities including activities related to diagnostics and how they will rolled out into our system at the Rwanda biomedical center.  : Yes, I heard about it, when CHAI came with it as a project, to expand what was being considered as a PPP here in Rwanda, if I recall what I heard it was meant to help government, to partner with a specific partner on multiple services related to diagnostics to make sure that the government delivers at the standard required by quality health both nationally and internationally. : (With attitude of shaking head), there was no contract yet, because the contract comes when the PPP is induced by the government and the contract was to come after the feasibility study was finalized and approved by steering committee. : (With sureness attitude), In Rwanda everything is provided by the law, it is the PPP law of 2016 every design, and every contract has provisions in that law and the PPP is actually negotiated and brought to life by the Rwanda Development Board (RDB). : (With sureness attitude), there was no negotiation with anybody, the partner had project, which was reassessed by RBC teams and RDB teams which brought together both the partners at private level and government of Rwanda represented by MoH/RBC. It was not like there was any negotiation about tender ship or tendering but it was maturing together a project which the government of Rwanda would have induced for partnership. : Teams from MoH, RBC and RDB : CHAI come in not as a negotiator, come in to help and go in depth into the partnership and it has accompanied efforts at the feasibility lever in terms of financing, facilitation and it has never been involved into negotiation. : No, we were still at the feasibility study level, so before it is completed, there is nothing else that could be done. : (With attitude of happiness), yes of course I am the one : (With sureness attitude), yes of course you know new initiatives, do not go as smooth as you expect, many people saw into the PPP process, a kind of giving, to one partner the whole procurement of the whole process which is not always welcomed by everyone, so that is a hump already into the negotiation or the contracting of any partner, and I think if things are not well explained far before it might also be a hampering point or a sticking point at any contracting negotiation process. :  It is provided by the law only the steering committee approves the PPP, and the steering committee is composed of Ministry of Finance, Ministry of Infrastructure, Rwanda Development Board and the Ministry of Health if things are related to health. : : (With attitude of convincing), there are two models which are possible, but the our options was what is called  BOT (build operate and transfer) it is the model of PPP which brings the partner in partnership  with the government to build up the design , the project and operate it and transfer it to government in a negotiated period. : (With sureness attitude), when you operate you are 100% responsible and accountable to whatever might happen because the model you build is promising the government to do what is in the contract as it has to be done, the government is there to make sure to hold you accountable of what you had promised and contracted to do, so risks are both on side of the partner and the government, if the partner was to fail. : In Rwanda every tender-ship or tendering process is provided by the law, if you have a proposal and you are proposing it to the government of Rwanda, that proposal is accepted on one condition, that you make a feasibility study, which proves the project to be viable both financially and viable in terms of diagnostics, if you are considering diagnostics.  Secondly, if the government was to bring forth a project, then it will just put together project, do the feasibility study and tender it to any partner who is willing to partner with the government to bring it to flourish. It is in that direction things related to PPP work here in Rwanda. : No, the partner would have implemented the contract within the government facilities, that what is the government is bringing into the partnership, we have infrastructures at facility level, equipment, staffing but in terms of managing all of that it was meant that the partner will take over the managements of the labs and any activity at the level of the lab. Then the partner negotiate with government what it is bringing back to the government, beyond the usual services as offered by GoR, to the hospitals. : (With sureness attitude), when you look at the needs, the capacity there is no way the public health will be able alone to deliver the quality health care in diagnostics to have a private partner who is willing to take over and bring at worldwide standards our diagnostics power and capacity it is in the advantage of the government to see it happening, it is actually partnering to deliver quality care and I think the design as it was designed it was the best we could get, hopefully in the future we will see many PPPs being signed and contracted for health care delivery.   : We canâ€™t accommodate any PPP if it has nothing to do with delivering services to our populations, as simple as that. : (With sadness attitude), Our capacity in diagnostics, is still low both in our hospitals public and private here in Rwanda, you need people who have the knowhow to help pinch in, to bring up capacity and capability of people of lab technicians, so that we can deliver to the level we want as we look forward to see Rwanda becoming a health hub. : The motto of Ministry of health is to make sure the health care is accessible both geographically, and financially any PPP which is being considered should deliver to those points, should make health care diagnostics services accessible and should make them affordable, there is no partnership if  any PPP is not delivering those.  : (With attitude of confusion), I can say it is availability because the services are not yet that delivered comprehensively in our own hospitals. : (With sureness attitude), PPP should have existed like yesterday, because it is the only way the government will be able to deliver the quality of services to our people. If it is not to happen then the government will take the whole burden of diagnostics, of training and informing people on its own and I think this is just too big for the government to carry on with all the priorities in other sectors. : (With sureness attitude), I donâ€™t think AHDP has yet started delivering any support to Rwanda as current. : (With attitude of confusion), I think no partnership will be accountable to the contract unless there is availability of finance support both from government and AHDP, because a partner needs guarantee of their own investments, and I think AHDP will be there to guarantee that the service delivered will be paid as the contract says. : (With sureness happy face attitude), Rwanda is open to do business, when the partnership is to save the Rwandan population , our policy are so open, and if there is any law harboring it ,it would be bent just to make sure  the partnership happens. With the existence of 2016 law everything, all terms of the law mean to bring forth the partnership with private sector. : No PPP canâ€™t be accommodated unless it is aligned with government priorities, because even the private sectors when they come into partnership with the government they want to show that they aligned with government priorities. :(With attitude of shaking the head), I have no clue of history  : (With attitude of smiling), they are so many PPPs here in Rwanda in different areas, the Bugesera airport is being built under PPP, Dialysis here is being done with people in PPP in our hospitals, so there are PPPs which can inspire AHDP. : (With attitude of confusion), perhaps what is lacking now is the MoH taking the lead in defining their  needs in project so that partners know what are their real needs , the  book containing the needs of Ministry of Health so that they can be implemented in partnership. But when there is no project aligned there then the partner will not know how to go and where to go. : (With sureness attitude), in Diagnostics it is meant to bring our diagnostics to a well class medical diagnostics, if you can deliver that your partnership is successful. Secondly it is meant to be delivering a system that makes Rwanda shine on the well stage. Third, it is bringing capacity of our technicians to deliver the quality of diagnostics care we wish. Four, is to equip our laboratories with equipment that allow that to happen.  : (With attitude of happiness), the government of Rwanda has sank millions of dollars, in diagnostics sectors, but the needs also national wide are bigger than the money perhaps we have and that is why we need partnerships. : (With attitude of shaking the head), I donâ€™t know how to say it, but we have been constructing ,equipping our laboratories to bring the diagnostics services close to the populations and qualify to the standard of the quality services we want to deliver; any investment in the equipment, in infrastructure was aiming at bringing quality service to the people. : (With an Upset face), COVID-19 has disturbed many things, including the diagnostics but the PPP has put equipments that allowed us to face COVID in terms of diagnosing it on decentralized level, so the money which is flowing in to fight COVID it is also flowing in for diagnostics and that money is helping to expand the capacity our lab and we hope that whenever COVID will fade away, all those equipment, will be used also to diagnose other diseases. :(With tiredness attitude) , the PPP means two partners; the government of Rwanda in health represented by  Rwanda biomedical center  and Ministry of Health , the steering committee which approves the PPP which includes the Ministry of Finance, Rwanda Development Board and the ministry of infrastructure. The hospitals facilities as the end users, perhaps the RSSB as the public insurance company. We have to know that PPP is a kind of procurement which means has nothing to do with Rwanda public procurement agency, perhaps it will have to do with the Rwanda medical supply as the medium through which the government does procurement.  : We have not yet done any survey, to know that : (With sureness attitude), there should be no incentives, they should do follow the steps of the government choice. : (With attitude of confusion), whenever there is a reshuffle on the position, it may also reshuffle the decision if they are not yet consolidated but if the PPP is already rolled out  then it will be neutral to reshuffle out. : (With sureness attitude), the pre- tender process is provided by the law not by people. : (With attitude of shaking the head), I can say there should be no interests helped or hurt, there should be interests in terms of which kind of capacity of diagnostics, which is being brought forward, but we know that income in our hospitals come mostly from our laboratories, and many hospitals might think that a private partner is taking a way their own interests. It is within the government power to negotiate in a way that, if we bring in a partner how will the hospitals survive, that must be thought through as they negotiate their contract. : (He seems tired), a PPP should be a win- win. : (With attitude of confusion), perhaps people who are in the business procurement might be hurt because the power of procuring is no longer in their power but, no more they should not be anyone hurt if we do good as a government. : It should be a boost as it is a financial boost to help government deal with private sector. : (With attitude of smiling), we hope then it will roll out and everyone will learn better how PPP works and their benefits. : (With attitude of happiness), with AHDP every partner should be happy in partnering with the government, they are doing good job, they are bringing standards to the quality of  care , and they are supported and guaranteed by financial private people BMGF, CHAI and EIB  to make that happen. : (With the attitude of smiling), because the government is the biggest market ever, if their honor the private sector, is good. : (With the attitude of assuring), the only drawback it is when the government is not honoring it own contract, so which means if there is no business, then partner will fall. : (With attitude of Confusion), I hope so whenever they will be involved. We cannot choose a partner who cannot deliver. : (With the attitude of happiness), the outcome of any PPP is to see the project sustainable, when we talk about building operating and transfer they should transfer to the government of Rwanda a viable project and to have taken consented years to evaluate either annually or biannually the partnership so that you see that the drawbacks or the benefits of that kind of the project. We hope that the PPP is aiming at bringing to the government a financial viable project, and a sustainable project where that the government has learned how to do business in diagnostics. : (With the attitude of happiness), all evaluation should aim at bringing innovations and newness into the whole system. : (With the attitude of convincing), the government has to invest as those investments attract new partners to keep up the partnership. : Actually the sales should be constructed in a way that is a sale sustainable.  : Hopefully. : So far nothing.'"
      ]
     },
     "execution_count": 8,
     "metadata": {},
     "output_type": "execute_result"
    }
   ],
   "source": [
    "dataset"
   ]
  },
  {
   "cell_type": "code",
   "execution_count": null,
   "metadata": {},
   "outputs": [],
   "source": []
  }
 ],
 "metadata": {
  "kernelspec": {
   "display_name": "Python 3.10.4 64-bit",
   "language": "python",
   "name": "python3"
  },
  "language_info": {
   "codemirror_mode": {
    "name": "ipython",
    "version": 3
   },
   "file_extension": ".py",
   "mimetype": "text/x-python",
   "name": "python",
   "nbconvert_exporter": "python",
   "pygments_lexer": "ipython3",
   "version": "3.10.4"
  },
  "orig_nbformat": 4,
  "vscode": {
   "interpreter": {
    "hash": "97cc609b13305c559618ec78a438abc56230b9381f827f22d070313b9a1f3777"
   }
  }
 },
 "nbformat": 4,
 "nbformat_minor": 2
}
