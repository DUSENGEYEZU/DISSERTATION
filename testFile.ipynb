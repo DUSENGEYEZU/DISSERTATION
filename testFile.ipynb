{
 "cells": [
  {
   "cell_type": "code",
   "execution_count": 1,
   "metadata": {},
   "outputs": [
    {
     "name": "stdout",
     "output_type": "stream",
     "text": [
      "52\n"
     ]
    }
   ],
   "source": [
    "\n",
    "import re\n",
    "\n",
    "from numpy import size\n",
    "\n",
    "fileObject = open(\"dataset/Data/RWA-int-PE-2021-10-26-FI.txt\", 'r',encoding='cp1250')\n",
    "data = fileObject.read()\n",
    "portern='Respondent(.+)'\n",
    "result=re.findall(portern,data)\n",
    "print(size(result))\n",
    "#print(type(result))"
   ]
  },
  {
   "cell_type": "code",
   "execution_count": 2,
   "metadata": {},
   "outputs": [
    {
     "data": {
      "text/plain": [
       "str"
      ]
     },
     "execution_count": 2,
     "metadata": {},
     "output_type": "execute_result"
    }
   ],
   "source": [
    "# comvert list to string \n",
    "dataset=' '.join(str(item) for item in result)\n",
    "type(dataset)"
   ]
  },
  {
   "cell_type": "code",
   "execution_count": 3,
   "metadata": {},
   "outputs": [],
   "source": [
    "#dataset"
   ]
  },
  {
   "cell_type": "code",
   "execution_count": 6,
   "metadata": {},
   "outputs": [
    {
     "name": "stdout",
     "output_type": "stream",
     "text": [
      "hi what is the weather like\n"
     ]
    }
   ],
   "source": [
    "import string\n",
    "\n",
    "a_string = \"!hi. ,:':-wh?at is the weat[h]er lik?e.\"\n",
    "new_string = a_string.translate(str.maketrans('', '', string.punctuation))\n",
    "\n",
    "print(new_string)"
   ]
  },
  {
   "cell_type": "code",
   "execution_count": 7,
   "metadata": {},
   "outputs": [
    {
     "data": {
      "text/html": [
       "<div>\n",
       "<style scoped>\n",
       "    .dataframe tbody tr th:only-of-type {\n",
       "        vertical-align: middle;\n",
       "    }\n",
       "\n",
       "    .dataframe tbody tr th {\n",
       "        vertical-align: top;\n",
       "    }\n",
       "\n",
       "    .dataframe thead th {\n",
       "        text-align: right;\n",
       "    }\n",
       "</style>\n",
       "<table border=\"1\" class=\"dataframe\">\n",
       "  <thead>\n",
       "    <tr style=\"text-align: right;\">\n",
       "      <th></th>\n",
       "      <th>Questions</th>\n",
       "      <th>Responses</th>\n",
       "      <th>Question number</th>\n",
       "      <th>Transcripts</th>\n",
       "    </tr>\n",
       "  </thead>\n",
       "  <tbody>\n",
       "    <tr>\n",
       "      <th>0</th>\n",
       "      <td>please describe your involvement in the ppp pr...</td>\n",
       "      <td>with attitude of happiness , i was the head of...</td>\n",
       "      <td>1</td>\n",
       "      <td>rwa-int-pe-2021-10-26-fi</td>\n",
       "    </tr>\n",
       "    <tr>\n",
       "      <th>1</th>\n",
       "      <td>are you familiar with the african health diagn...</td>\n",
       "      <td>yes, i heard about it, when chai came with it ...</td>\n",
       "      <td>2</td>\n",
       "      <td>rwa-int-pe-2021-10-26-fi</td>\n",
       "    </tr>\n",
       "  </tbody>\n",
       "</table>\n",
       "</div>"
      ],
      "text/plain": [
       "                                           Questions  \\\n",
       "0  please describe your involvement in the ppp pr...   \n",
       "1  are you familiar with the african health diagn...   \n",
       "\n",
       "                                           Responses  Question number  \\\n",
       "0  with attitude of happiness , i was the head of...                1   \n",
       "1  yes, i heard about it, when chai came with it ...                2   \n",
       "\n",
       "                Transcripts  \n",
       "0  rwa-int-pe-2021-10-26-fi  \n",
       "1  rwa-int-pe-2021-10-26-fi  "
      ]
     },
     "execution_count": 7,
     "metadata": {},
     "output_type": "execute_result"
    }
   ],
   "source": [
    "# reding dataset\n",
    "import nltk\n",
    "import string\n",
    "import pandas as pd\n",
    "dataset=pd.read_csv('dataset/Data/response_and_answer.csv')\n",
    "dataset.head(2)\n"
   ]
  },
  {
   "cell_type": "code",
   "execution_count": 8,
   "metadata": {},
   "outputs": [],
   "source": [
    "# removing ponctiuation on responses\n",
    "from hashlib import new\n",
    "\n",
    "\n",
    "def removepuct(text):\n",
    "    text = text.translate(str.maketrans('', '', string.punctuation))\n",
    "    return text\n",
    "\n",
    "dataset['Responses']=dataset['Responses'].apply(removepuct)\n"
   ]
  },
  {
   "cell_type": "code",
   "execution_count": 9,
   "metadata": {},
   "outputs": [
    {
     "name": "stderr",
     "output_type": "stream",
     "text": [
      "[nltk_data] Downloading package stopwords to /home/longin/nltk_data...\n",
      "[nltk_data]   Package stopwords is already up-to-date!\n"
     ]
    }
   ],
   "source": [
    "# removing stowords\n",
    "nltk.download('stopwords')\n",
    "from nltk.corpus import stopwords\n",
    "\n",
    "stop_words = stopwords.words('english')\n",
    "dataset['Responses'] = dataset['Responses'].apply(lambda x: ' '.join([word for word in x.split() if word not in (stop_words)]))\n",
    "#dataset.to_csv('response_and_answer_clean.csv', index=False)"
   ]
  },
  {
   "cell_type": "code",
   "execution_count": null,
   "metadata": {},
   "outputs": [],
   "source": []
  }
 ],
 "metadata": {
  "kernelspec": {
   "display_name": "Python 3.10.4 64-bit",
   "language": "python",
   "name": "python3"
  },
  "language_info": {
   "codemirror_mode": {
    "name": "ipython",
    "version": 3
   },
   "file_extension": ".py",
   "mimetype": "text/x-python",
   "name": "python",
   "nbconvert_exporter": "python",
   "pygments_lexer": "ipython3",
   "version": "3.10.4"
  },
  "orig_nbformat": 4,
  "vscode": {
   "interpreter": {
    "hash": "97cc609b13305c559618ec78a438abc56230b9381f827f22d070313b9a1f3777"
   }
  }
 },
 "nbformat": 4,
 "nbformat_minor": 2
}
